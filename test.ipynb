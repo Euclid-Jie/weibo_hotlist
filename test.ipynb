{
 "cells": [
  {
   "cell_type": "code",
   "execution_count": 18,
   "metadata": {},
   "outputs": [
    {
     "name": "stderr",
     "output_type": "stream",
     "text": [
      "C:\\Users\\Ouwei\\AppData\\Local\\Temp\\ipykernel_14320\\3623493497.py:2: DtypeWarning: Columns (3) have mixed types. Specify dtype option on import or set low_memory=False.\n",
      "  example = pd.read_csv(\"ranking/example.csv\",encoding=\"gbk\")\n"
     ]
    },
    {
     "data": {
      "text/html": [
       "<div>\n",
       "<style scoped>\n",
       "    .dataframe tbody tr th:only-of-type {\n",
       "        vertical-align: middle;\n",
       "    }\n",
       "\n",
       "    .dataframe tbody tr th {\n",
       "        vertical-align: top;\n",
       "    }\n",
       "\n",
       "    .dataframe thead th {\n",
       "        text-align: right;\n",
       "    }\n",
       "</style>\n",
       "<table border=\"1\" class=\"dataframe\">\n",
       "  <thead>\n",
       "    <tr style=\"text-align: right;\">\n",
       "      <th></th>\n",
       "      <th>name</th>\n",
       "      <th>value</th>\n",
       "      <th>date</th>\n",
       "      <th>Unnamed: 3</th>\n",
       "    </tr>\n",
       "  </thead>\n",
       "  <tbody>\n",
       "    <tr>\n",
       "      <th>0</th>\n",
       "      <td>愿逆风如解意 税后十个亿</td>\n",
       "      <td>1759707</td>\n",
       "      <td>2024-1-1:9:47:51</td>\n",
       "      <td>NaN</td>\n",
       "    </tr>\n",
       "    <tr>\n",
       "      <th>1</th>\n",
       "      <td>新年快乐</td>\n",
       "      <td>1102412</td>\n",
       "      <td>2024-1-1:9:47:51</td>\n",
       "      <td>NaN</td>\n",
       "    </tr>\n",
       "    <tr>\n",
       "      <th>2</th>\n",
       "      <td>一句话送给2024年的自己</td>\n",
       "      <td>5242</td>\n",
       "      <td>2024-1-1:9:47:51</td>\n",
       "      <td>NaN</td>\n",
       "    </tr>\n",
       "    <tr>\n",
       "      <th>3</th>\n",
       "      <td>杨紫李现合照 今夕是何年</td>\n",
       "      <td>969501</td>\n",
       "      <td>2024-1-1:9:47:51</td>\n",
       "      <td>NaN</td>\n",
       "    </tr>\n",
       "    <tr>\n",
       "      <th>4</th>\n",
       "      <td>跨年收视率</td>\n",
       "      <td>800781</td>\n",
       "      <td>2024-1-1:9:47:51</td>\n",
       "      <td>NaN</td>\n",
       "    </tr>\n",
       "  </tbody>\n",
       "</table>\n",
       "</div>"
      ],
      "text/plain": [
       "            name    value              date Unnamed: 3\n",
       "0   愿逆风如解意 税后十个亿  1759707  2024-1-1:9:47:51        NaN\n",
       "1           新年快乐  1102412  2024-1-1:9:47:51        NaN\n",
       "2  一句话送给2024年的自己     5242  2024-1-1:9:47:51        NaN\n",
       "3   杨紫李现合照 今夕是何年   969501  2024-1-1:9:47:51        NaN\n",
       "4          跨年收视率   800781  2024-1-1:9:47:51        NaN"
      ]
     },
     "execution_count": 18,
     "metadata": {},
     "output_type": "execute_result"
    }
   ],
   "source": [
    "import pandas as pd\n",
    "example = pd.read_csv(\"ranking/example.csv\",encoding=\"gbk\")\n",
    "example.head()"
   ]
  },
  {
   "cell_type": "code",
   "execution_count": 12,
   "metadata": {},
   "outputs": [
    {
     "name": "stdout",
     "output_type": "stream",
     "text": [
      "<class 'pandas.core.frame.DataFrame'>\n",
      "RangeIndex: 3900 entries, 0 to 3899\n",
      "Data columns (total 4 columns):\n",
      " #   Column  Non-Null Count  Dtype  \n",
      "---  ------  --------------  -----  \n",
      " 0   word    3900 non-null   object \n",
      " 1   hot     3900 non-null   int64  \n",
      " 2   mid     3809 non-null   float64\n",
      " 3   time    3900 non-null   object \n",
      "dtypes: float64(1), int64(1), object(2)\n",
      "memory usage: 122.0+ KB\n"
     ]
    }
   ],
   "source": [
    "data  = pd.read_csv(r\"D:\\Euclid_Jie\\weibo_hotlist\\hotlist\\2024_1_1.csv\",encoding=\"utf-8-sig\")\n",
    "data.info()"
   ]
  },
  {
   "cell_type": "code",
   "execution_count": 20,
   "metadata": {},
   "outputs": [],
   "source": [
    "example[\"name\"] = data[\"word\"]\n",
    "example[\"value\"] = data[\"hot\"]\n",
    "example[\"date\"] = data[\"time\"]\n",
    "example.to_csv(\"ranking/ranking_data.csv\",index=False,encoding=\"utf-8-sig\")"
   ]
  }
 ],
 "metadata": {
  "kernelspec": {
   "display_name": "base",
   "language": "python",
   "name": "python3"
  },
  "language_info": {
   "codemirror_mode": {
    "name": "ipython",
    "version": 3
   },
   "file_extension": ".py",
   "mimetype": "text/x-python",
   "name": "python",
   "nbconvert_exporter": "python",
   "pygments_lexer": "ipython3",
   "version": "3.9.12"
  },
  "orig_nbformat": 4
 },
 "nbformat": 4,
 "nbformat_minor": 2
}
